{
 "cells": [
  {
   "cell_type": "code",
   "execution_count": 1,
   "metadata": {
    "ExecuteTime": {
     "end_time": "2023-08-01T13:48:13.604268198Z",
     "start_time": "2023-08-01T13:48:13.492534349Z"
    }
   },
   "outputs": [],
   "source": [
    "import json\n",
    "import pickle\n",
    "from itertools import islice\n",
    "\n",
    "from champs import top_champs\n",
    "\n",
    "# Open the pkl file in read binary mode\n",
    "with open('full_result.pickle', 'rb') as f:\n",
    "    data = pickle.load(f)"
   ]
  },
  {
   "cell_type": "code",
   "execution_count": 17,
   "metadata": {
    "collapsed": false,
    "jupyter": {
     "outputs_hidden": false
    }
   },
   "outputs": [],
   "source": [
    "my_champ = \"Garen\""
   ]
  },
  {
   "cell_type": "code",
   "execution_count": 3,
   "metadata": {},
   "outputs": [
    {
     "data": {
      "text/plain": [
       "{'Camille': '0.0512',\n",
       " 'Olaf': '0.0454',\n",
       " 'Yone': '0.0427',\n",
       " 'Gnar': '0.0385',\n",
       " 'Irelia': '0.0374',\n",
       " 'Shen': '0.0341',\n",
       " 'Shyvana': '0.0267',\n",
       " 'Jayce': '0.0242',\n",
       " 'Mordekaiser': '0.0226',\n",
       " 'Darius': '0.0179',\n",
       " \"K'Sante\": '0.0163',\n",
       " 'Yorick': '0.0156',\n",
       " 'Gangplank': '0.015',\n",
       " 'Teemo': '0.01',\n",
       " 'Malphite': '-0.1071',\n",
       " 'Fiora': '-0.0437',\n",
       " 'Kayle': '-0.0307',\n",
       " 'Volibear': '-0.0295',\n",
       " 'Sion': '-0.0261',\n",
       " 'Rumble': '-0.0251',\n",
       " 'Nasus': '-0.023',\n",
       " 'Pantheon': '-0.0151',\n",
       " 'Gwen': '-0.0148',\n",
       " 'Garen': '-0.0129',\n",
       " 'Renekton': '-0.0129'}"
      ]
     },
     "execution_count": 3,
     "metadata": {},
     "output_type": "execute_result"
    }
   ],
   "source": [
    "data[my_champ]"
   ]
  },
  {
   "cell_type": "code",
   "execution_count": 4,
   "metadata": {},
   "outputs": [],
   "source": [
    "results = {}\n",
    "for c in data:\n",
    "    garen_data = data[my_champ].copy()\n",
    "    for k, v in garen_data.items():\n",
    "        if float(v) < 0:\n",
    "            garen_data[k] = 0 if float(data[c].get(k, 0)) > 0 else float(garen_data[k])\n",
    "            # if float(data[c].get(k, 0)) > 0:\n",
    "            #     print(f\"{c} counters weakness {k}\")\n",
    "\n",
    "    results[c] = 0\n",
    "    for value in garen_data.values():\n",
    "        if float(value) < 0:\n",
    "            results[c] += 1"
   ]
  },
  {
   "cell_type": "code",
   "execution_count": 5,
   "metadata": {},
   "outputs": [
    {
     "name": "stdout",
     "output_type": "stream",
     "text": [
      "Ornn: 4\n",
      "Dr. Mundo: 5\n",
      "Darius: 6\n",
      "Gnar: 6\n",
      "Illaoi: 6\n",
      "Shen: 6\n",
      "Singed: 6\n",
      "Aatrox: 7\n",
      "Cho'Gath: 7\n",
      "Fiora: 7\n",
      "Gangplank: 7\n",
      "Malphite: 7\n",
      "Mordekaiser: 7\n",
      "Nasus: 7\n",
      "Pantheon: 7\n",
      "Riven: 7\n",
      "Sett: 7\n",
      "Teemo: 7\n",
      "Warwick: 7\n",
      "Camille: 8\n",
      "Gragas: 8\n",
      "Irelia: 8\n",
      "Jax: 8\n",
      "Poppy: 8\n",
      "Sion: 8\n",
      "Tryndamere: 8\n",
      "Kennen: 9\n",
      "K'Sante: 9\n",
      "Quinn: 9\n",
      "Renekton: 9\n",
      "Trundle: 9\n",
      "Urgot: 9\n",
      "Yorick: 9\n",
      "Akali: 10\n",
      "Garen: 10\n",
      "Jayce: 10\n",
      "Volibear: 10\n",
      "Wukong: 10\n",
      "Kled: 11\n",
      "Maokai: 11\n",
      "Rengar: 11\n",
      "Vladimir: 11\n",
      "Yasuo: 11\n",
      "Zac: 11\n"
     ]
    }
   ],
   "source": [
    "results = dict(sorted(results.items(), key=lambda item: item[1]))\n",
    "\n",
    "for c in results:\n",
    "    print(f\"{c}: {results[c]}\")"
   ]
  },
  {
   "cell_type": "code",
   "execution_count": 18,
   "metadata": {},
   "outputs": [],
   "source": [
    "def weak_matrix(champ):\n",
    "    results = {}\n",
    "    for c in data:\n",
    "        garen_data = data[champ].copy()\n",
    "        for k, v in garen_data.items():\n",
    "            if float(v) < 0:\n",
    "                garen_data[k] = 0 if float(data[c].get(k, 0)) > 0 else float(garen_data[k])\n",
    "                # if float(data[c].get(k, 0)) > 0:\n",
    "                #     print(f\"{c} counters weakness {k}\")\n",
    "    \n",
    "        results[c] = 0\n",
    "        for value in garen_data.values():\n",
    "            if float(value) < 0:\n",
    "                results[c] += 1\n",
    "        results = dict(sorted(results.items(), key=lambda item: item[1]))\n",
    "    return dict(islice(results.items(), 7))"
   ]
  },
  {
   "cell_type": "code",
   "execution_count": 21,
   "metadata": {},
   "outputs": [],
   "source": [
    "def score(champ1, champ2):\n",
    "    results = {}\n",
    "    garen_data = data[champ1].copy()\n",
    "    for k, v in garen_data.items():\n",
    "        if float(v) < 0:\n",
    "            garen_data[k] = 0 if float(data[champ2].get(k, 0)) > 0 else float(garen_data[k])\n",
    "            # if float(data[c].get(k, 0)) > 0:\n",
    "            #     print(f\"{c} counters weakness {k}\")\n",
    "\n",
    "    results[champ2] = 0\n",
    "    for value in garen_data.values():\n",
    "        if float(value) < 0:\n",
    "            results[champ2] += 1\n",
    "    results = dict(sorted(results.items(), key=lambda item: item[1]))\n",
    "    return dict(islice(results.items(), 7))"
   ]
  },
  {
   "cell_type": "code",
   "execution_count": 20,
   "metadata": {},
   "outputs": [
    {
     "data": {
      "text/plain": [
       "{'Malphite': 8,\n",
       " 'Kled': 9,\n",
       " 'Ornn': 9,\n",
       " 'Sion': 9,\n",
       " 'Dr. Mundo': 10,\n",
       " 'Jax': 10,\n",
       " 'Nasus': 10}"
      ]
     },
     "execution_count": 20,
     "metadata": {},
     "output_type": "execute_result"
    }
   ],
   "source": [
    "wm = weak_matrix(my_champ)\n",
    "wm"
   ]
  },
  {
   "cell_type": "code",
   "execution_count": 30,
   "metadata": {},
   "outputs": [],
   "source": [
    "def get_best_third_champ(champ):\n",
    "    results = {}\n",
    "    for c in weak_matrix(champ):\n",
    "        batch = {}\n",
    "        for c2 in weak_matrix(c):\n",
    "            m = score(champ, c2)\n",
    "            for k, v in m.items():\n",
    "                batch[k] = v\n",
    "        results[c] = batch\n",
    "    return results"
   ]
  },
  {
   "cell_type": "code",
   "execution_count": 52,
   "metadata": {},
   "outputs": [],
   "source": [
    "def evaluate_triplets(results, champ):\n",
    "    final = {}\n",
    "    for c in results:\n",
    "        sums = {}\n",
    "        for c2 in results[c]:\n",
    "            sums[c2] = results[c][c2] + wm.get(c, 100)\n",
    "            \n",
    "        min_value = min(sums.values())\n",
    "        min_keys = [key for key, value in sums.items() if value == min_value]\n",
    "    \n",
    "        final[c] = {}\n",
    "        for k in min_keys:\n",
    "            final[c][k] = sums[k]\n",
    "\n",
    "    print(f\"These are your best 3-trick combos for {champ}:\\n\")\n",
    "    for c in final:\n",
    "        for c2 in final[c]:\n",
    "            print(f\"- {champ}, {c}, {c2} (Score: {final[c][c2]})\")\n",
    "    print(\"\\n* Score stands for amount of counters a combo has. Lower is better.\")"
   ]
  },
  {
   "cell_type": "code",
   "execution_count": 53,
   "metadata": {},
   "outputs": [
    {
     "name": "stdout",
     "output_type": "stream",
     "text": [
      "These are your best 3-trick combos for Garen:\n",
      "\n",
      "- Garen, Malphite, Sett (Score: 19)\n",
      "- Garen, Malphite, Gangplank (Score: 19)\n",
      "- Garen, Kled, Ornn (Score: 18)\n",
      "- Garen, Ornn, Kled (Score: 18)\n",
      "- Garen, Sion, Jax (Score: 19)\n",
      "- Garen, Sion, Nasus (Score: 19)\n",
      "- Garen, Dr. Mundo, Kled (Score: 19)\n",
      "- Garen, Jax, Sion (Score: 19)\n",
      "- Garen, Jax, Ornn (Score: 19)\n",
      "- Garen, Nasus, Ornn (Score: 19)\n",
      "\n",
      "* Score stands for amount of counters a combo has. Lower is better.\n"
     ]
    }
   ],
   "source": [
    "evaluate_triplets(get_best_third_champ(my_champ), my_champ)"
   ]
  },
  {
   "cell_type": "code",
   "execution_count": 1,
   "metadata": {
    "ExecuteTime": {
     "end_time": "2023-08-01T16:15:11.925181188Z",
     "start_time": "2023-08-01T16:15:11.921554962Z"
    }
   },
   "outputs": [],
   "source": [
    "# for c in top_champs:\n",
    "#     evaluate_triplets(get_best_third_champ(c), c)"
   ]
  },
  {
   "cell_type": "code",
   "execution_count": null,
   "metadata": {},
   "outputs": [],
   "source": []
  }
 ],
 "metadata": {
  "kernelspec": {
   "display_name": "Python 3 (ipykernel)",
   "language": "python",
   "name": "python3"
  },
  "language_info": {
   "codemirror_mode": {
    "name": "ipython",
    "version": 3
   },
   "file_extension": ".py",
   "mimetype": "text/x-python",
   "name": "python",
   "nbconvert_exporter": "python",
   "pygments_lexer": "ipython3",
   "version": "3.11.4"
  }
 },
 "nbformat": 4,
 "nbformat_minor": 4
}

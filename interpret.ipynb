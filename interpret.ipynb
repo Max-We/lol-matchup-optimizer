{
 "cells": [
  {
   "cell_type": "code",
   "execution_count": 52,
   "metadata": {
    "ExecuteTime": {
     "end_time": "2023-08-01T17:07:32.329524376Z",
     "start_time": "2023-08-01T17:07:32.323439177Z"
    }
   },
   "outputs": [],
   "source": [
    "import json\n",
    "import pickle\n",
    "from itertools import islice\n",
    "\n",
    "from champs import top_champs\n",
    "\n",
    "# Open the pkl file in read binary mode\n",
    "with open('full_result.pickle', 'rb') as f:\n",
    "    data = pickle.load(f)"
   ]
  },
  {
   "cell_type": "code",
   "execution_count": 53,
   "metadata": {
    "collapsed": false,
    "jupyter": {
     "outputs_hidden": false
    },
    "ExecuteTime": {
     "end_time": "2023-08-01T17:07:32.370002788Z",
     "start_time": "2023-08-01T17:07:32.369368522Z"
    }
   },
   "outputs": [],
   "source": [
    "my_champ = \"Garen\""
   ]
  },
  {
   "cell_type": "code",
   "execution_count": 54,
   "metadata": {
    "ExecuteTime": {
     "end_time": "2023-08-01T17:07:32.371965713Z",
     "start_time": "2023-08-01T17:07:32.370327006Z"
    }
   },
   "outputs": [
    {
     "data": {
      "text/plain": "{'Gragas': '0.0793',\n \"K'Sante\": '0.0602',\n 'Gwen': '0.0434',\n 'Yone': '0.0345',\n 'Jax': '0.0299',\n 'Shyvana': '0.0234',\n 'Pantheon': '0.0224',\n 'Nasus': '0.0216',\n 'Warwick': '0.0216',\n 'Riven': '0.0209',\n 'Tryndamere': '0.0195',\n 'Ornn': '0.0195',\n 'Irelia': '0.0187',\n 'Renekton': '0.0128',\n 'Singed': '0.0125',\n 'Illaoi': '0.0108',\n 'Kennen': '0.0102',\n 'Akshan': '-0.0728',\n 'Kayle': '-0.0539',\n 'Camille': '-0.051',\n 'Trundle': '-0.0489',\n 'Quinn': '-0.0375',\n 'Malphite': '-0.0366',\n 'Tahm Kench': '-0.0351',\n 'Akali': '-0.0324',\n 'Rumble': '-0.0269',\n 'Mordekaiser': '-0.0172',\n 'Urgot': '-0.0157',\n 'Sett': '-0.0153',\n 'Fiora': '-0.0144',\n 'Aatrox': '-0.0139',\n 'Darius': '-0.0139',\n 'Olaf': '-0.0135',\n 'Gnar': '-0.0128',\n 'Shen': '-0.0105'}"
     },
     "execution_count": 54,
     "metadata": {},
     "output_type": "execute_result"
    }
   ],
   "source": [
    "data[my_champ]"
   ]
  },
  {
   "cell_type": "code",
   "execution_count": 55,
   "metadata": {
    "ExecuteTime": {
     "end_time": "2023-08-01T17:07:32.372497338Z",
     "start_time": "2023-08-01T17:07:32.370978600Z"
    }
   },
   "outputs": [],
   "source": [
    "results = {}\n",
    "for c in data:\n",
    "    garen_data = data[my_champ].copy()\n",
    "    for k, v in garen_data.items():\n",
    "        if float(v) < 0:\n",
    "            garen_data[k] = 0 if float(data[c].get(k, 0)) > 0 else float(garen_data[k])\n",
    "            # if float(data[c].get(k, 0)) > 0:\n",
    "            #     print(f\"{c} counters weakness {k}\")\n",
    "\n",
    "    results[c] = 0\n",
    "    for value in garen_data.values():\n",
    "        if float(value) < 0:\n",
    "            results[c] += 1"
   ]
  },
  {
   "cell_type": "code",
   "execution_count": 56,
   "metadata": {
    "ExecuteTime": {
     "end_time": "2023-08-01T17:07:32.373691263Z",
     "start_time": "2023-08-01T17:07:32.372637510Z"
    }
   },
   "outputs": [
    {
     "name": "stdout",
     "output_type": "stream",
     "text": [
      "Malphite: 8\n",
      "Pantheon: 9\n",
      "Dr. Mundo: 10\n",
      "Irelia: 10\n",
      "Illaoi: 10\n",
      "Nasus: 10\n",
      "Ornn: 11\n",
      "Riven: 11\n",
      "Sion: 11\n",
      "Teemo: 11\n",
      "Aatrox: 12\n",
      "Gangplank: 12\n",
      "Jayce: 12\n",
      "K'Sante: 12\n",
      "Mordekaiser: 12\n",
      "Sett: 12\n",
      "Yorick: 12\n",
      "Camille: 13\n",
      "Jax: 13\n",
      "Kled: 13\n",
      "Quinn: 13\n",
      "Renekton: 13\n",
      "Tahm Kench: 13\n",
      "Tryndamere: 13\n",
      "Volibear: 13\n",
      "Darius: 14\n",
      "Gnar: 14\n",
      "Shen: 14\n",
      "Warwick: 14\n",
      "Fiora: 15\n",
      "Poppy: 15\n",
      "Akali: 16\n",
      "Cho'Gath: 16\n",
      "Gragas: 16\n",
      "Kennen: 16\n",
      "Singed: 16\n",
      "Urgot: 16\n",
      "Vladimir: 16\n",
      "Trundle: 17\n",
      "Wukong: 17\n",
      "Yasuo: 17\n",
      "Garen: 18\n",
      "Maokai: 18\n",
      "Rengar: 18\n",
      "Zac: 18\n"
     ]
    }
   ],
   "source": [
    "results = dict(sorted(results.items(), key=lambda item: item[1]))\n",
    "\n",
    "for c in results:\n",
    "    print(f\"{c}: {results[c]}\")"
   ]
  },
  {
   "cell_type": "code",
   "execution_count": 57,
   "metadata": {
    "ExecuteTime": {
     "end_time": "2023-08-01T17:07:32.373905842Z",
     "start_time": "2023-08-01T17:07:32.373564527Z"
    }
   },
   "outputs": [],
   "source": [
    "def weak_matrix(champ):\n",
    "    results = {}\n",
    "    for c in data:\n",
    "        garen_data = data[champ].copy()\n",
    "        for k, v in garen_data.items():\n",
    "            if float(v) < 0:\n",
    "                garen_data[k] = 0 if float(data[c].get(k, 0)) > 0 else float(garen_data[k])\n",
    "                # if float(data[c].get(k, 0)) > 0:\n",
    "                #     print(f\"{c} counters weakness {k}\")\n",
    "    \n",
    "        results[c] = 0\n",
    "        for value in garen_data.values():\n",
    "            if float(value) < 0:\n",
    "                results[c] += 1\n",
    "        results = dict(sorted(results.items(), key=lambda item: item[1]))\n",
    "    return dict(islice(results.items(), 7))"
   ]
  },
  {
   "cell_type": "code",
   "execution_count": 58,
   "metadata": {
    "ExecuteTime": {
     "end_time": "2023-08-01T17:07:32.374443897Z",
     "start_time": "2023-08-01T17:07:32.374144220Z"
    }
   },
   "outputs": [],
   "source": [
    "def score(champ1, champ2):\n",
    "    results = {}\n",
    "    garen_data = data[champ1].copy()\n",
    "    for k, v in garen_data.items():\n",
    "        if float(v) < 0:\n",
    "            garen_data[k] = 0 if float(data[champ2].get(k, 0)) > 0 else float(garen_data[k])\n",
    "            # if float(data[c].get(k, 0)) > 0:\n",
    "            #     print(f\"{c} counters weakness {k}\")\n",
    "\n",
    "    results[champ2] = 0\n",
    "    for value in garen_data.values():\n",
    "        if float(value) < 0:\n",
    "            results[champ2] += 1\n",
    "    results = dict(sorted(results.items(), key=lambda item: item[1]))\n",
    "    return dict(islice(results.items(), 7))"
   ]
  },
  {
   "cell_type": "code",
   "execution_count": 59,
   "metadata": {
    "ExecuteTime": {
     "end_time": "2023-08-01T17:07:32.374957828Z",
     "start_time": "2023-08-01T17:07:32.374560604Z"
    }
   },
   "outputs": [
    {
     "data": {
      "text/plain": "{'Malphite': 8,\n 'Pantheon': 9,\n 'Dr. Mundo': 10,\n 'Irelia': 10,\n 'Illaoi': 10,\n 'Nasus': 10,\n 'Ornn': 11}"
     },
     "execution_count": 59,
     "metadata": {},
     "output_type": "execute_result"
    }
   ],
   "source": [
    "wm = weak_matrix(my_champ)\n",
    "wm"
   ]
  },
  {
   "cell_type": "code",
   "execution_count": 60,
   "metadata": {
    "ExecuteTime": {
     "end_time": "2023-08-01T17:07:32.375409500Z",
     "start_time": "2023-08-01T17:07:32.375080922Z"
    }
   },
   "outputs": [],
   "source": [
    "def get_best_third_champ(champ):\n",
    "    results = {}\n",
    "    for c in weak_matrix(champ):\n",
    "        batch = {}\n",
    "        for c2 in weak_matrix(c):\n",
    "            m = score(champ, c2)\n",
    "            for k, v in m.items():\n",
    "                batch[k] = v\n",
    "        results[c] = batch\n",
    "    return results"
   ]
  },
  {
   "cell_type": "code",
   "execution_count": 61,
   "metadata": {
    "ExecuteTime": {
     "end_time": "2023-08-01T17:07:32.428137567Z",
     "start_time": "2023-08-01T17:07:32.375538981Z"
    }
   },
   "outputs": [],
   "source": [
    "def evaluate_triplets(results, champ):\n",
    "    final = {}\n",
    "    for c in results:\n",
    "        sums = {}\n",
    "        for c2 in results[c]:\n",
    "            sums[c2] = results[c][c2] + wm.get(c, 100)\n",
    "            \n",
    "        min_value = min(sums.values())\n",
    "        min_keys = [key for key, value in sums.items() if value == min_value]\n",
    "    \n",
    "        final[c] = {}\n",
    "        for k in min_keys:\n",
    "            final[c][k] = sums[k]\n",
    "\n",
    "    print(f\"These are your best 3-trick combos for {champ}:\\n\")\n",
    "    for c in final:\n",
    "        for c2 in final[c]:\n",
    "            print(f\"- {champ}, {c}, {c2} (Score: {final[c][c2]})\")\n",
    "    print(\"\\n* Score stands for amount of counters a combo has. Lower is better.\")"
   ]
  },
  {
   "cell_type": "code",
   "execution_count": 62,
   "metadata": {
    "ExecuteTime": {
     "end_time": "2023-08-01T17:07:32.434993526Z",
     "start_time": "2023-08-01T17:07:32.409641826Z"
    }
   },
   "outputs": [
    {
     "name": "stdout",
     "output_type": "stream",
     "text": [
      "These are your best 3-trick combos for Garen:\n",
      "\n",
      "- Garen, Malphite, Illaoi (Score: 18)\n",
      "- Garen, Pantheon, Irelia (Score: 19)\n",
      "- Garen, Pantheon, Dr. Mundo (Score: 19)\n",
      "- Garen, Pantheon, Nasus (Score: 19)\n",
      "- Garen, Dr. Mundo, Malphite (Score: 18)\n",
      "- Garen, Irelia, Malphite (Score: 18)\n",
      "- Garen, Illaoi, Malphite (Score: 18)\n",
      "- Garen, Nasus, Malphite (Score: 18)\n",
      "- Garen, Ornn, Malphite (Score: 19)\n",
      "\n",
      "* Score stands for amount of counters a combo has. Lower is better.\n"
     ]
    }
   ],
   "source": [
    "evaluate_triplets(get_best_third_champ(my_champ), my_champ)"
   ]
  },
  {
   "cell_type": "code",
   "execution_count": 63,
   "metadata": {
    "ExecuteTime": {
     "end_time": "2023-08-01T17:07:32.435240297Z",
     "start_time": "2023-08-01T17:07:32.410240511Z"
    }
   },
   "outputs": [],
   "source": [
    "# for c in top_champs:\n",
    "#     evaluate_triplets(get_best_third_champ(c), c)"
   ]
  },
  {
   "cell_type": "code",
   "execution_count": 63,
   "metadata": {
    "ExecuteTime": {
     "end_time": "2023-08-01T17:07:32.435374794Z",
     "start_time": "2023-08-01T17:07:32.410736447Z"
    }
   },
   "outputs": [],
   "source": []
  }
 ],
 "metadata": {
  "kernelspec": {
   "display_name": "Python 3 (ipykernel)",
   "language": "python",
   "name": "python3"
  },
  "language_info": {
   "codemirror_mode": {
    "name": "ipython",
    "version": 3
   },
   "file_extension": ".py",
   "mimetype": "text/x-python",
   "name": "python",
   "nbconvert_exporter": "python",
   "pygments_lexer": "ipython3",
   "version": "3.11.4"
  }
 },
 "nbformat": 4,
 "nbformat_minor": 4
}
